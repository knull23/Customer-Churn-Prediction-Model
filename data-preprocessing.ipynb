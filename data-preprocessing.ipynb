{
 "cells": [
  {
   "cell_type": "code",
   "execution_count": 1,
   "id": "3b045a73-2121-4917-9e5d-b2dfd2dd15cf",
   "metadata": {},
   "outputs": [],
   "source": [
    "import pandas as pd\n",
    "import numpy as np\n",
    "import joblib\n",
    "import os\n",
    "from sklearn.model_selection import train_test_split\n",
    "from sklearn.preprocessing import LabelEncoder, StandardScaler\n",
    "from imblearn.over_sampling import SMOTE\n",
    "import matplotlib.pyplot as plt\n",
    "import seaborn as sns"
   ]
  },
  {
   "cell_type": "code",
   "execution_count": 2,
   "id": "777f62da-6470-4281-8ac3-9f1828a2cba5",
   "metadata": {},
   "outputs": [],
   "source": [
    "sns.set(style=\"whitegrid\")"
   ]
  },
  {
   "cell_type": "code",
   "execution_count": 5,
   "id": "8392cbb8-b436-4fe1-9bea-8831317f001d",
   "metadata": {},
   "outputs": [],
   "source": [
    "df = pd.read_csv(\"data/telco.csv\")"
   ]
  },
  {
   "cell_type": "code",
   "execution_count": 24,
   "id": "a6d6f247-df9c-4b8d-ad21-ffc69f49215a",
   "metadata": {},
   "outputs": [
    {
     "data": {
      "text/html": [
       "<div>\n",
       "<style scoped>\n",
       "    .dataframe tbody tr th:only-of-type {\n",
       "        vertical-align: middle;\n",
       "    }\n",
       "\n",
       "    .dataframe tbody tr th {\n",
       "        vertical-align: top;\n",
       "    }\n",
       "\n",
       "    .dataframe thead th {\n",
       "        text-align: right;\n",
       "    }\n",
       "</style>\n",
       "<table border=\"1\" class=\"dataframe\">\n",
       "  <thead>\n",
       "    <tr style=\"text-align: right;\">\n",
       "      <th></th>\n",
       "      <th>Customer ID</th>\n",
       "      <th>Gender</th>\n",
       "      <th>Age</th>\n",
       "      <th>Under 30</th>\n",
       "      <th>Senior Citizen</th>\n",
       "      <th>Married</th>\n",
       "      <th>Dependents</th>\n",
       "      <th>Number of Dependents</th>\n",
       "      <th>Country</th>\n",
       "      <th>State</th>\n",
       "      <th>...</th>\n",
       "      <th>Total Charges</th>\n",
       "      <th>Total Refunds</th>\n",
       "      <th>Total Extra Data Charges</th>\n",
       "      <th>Total Long Distance Charges</th>\n",
       "      <th>Total Revenue</th>\n",
       "      <th>Satisfaction Score</th>\n",
       "      <th>Customer Status</th>\n",
       "      <th>Churn</th>\n",
       "      <th>Churn Score</th>\n",
       "      <th>CLTV</th>\n",
       "    </tr>\n",
       "  </thead>\n",
       "  <tbody>\n",
       "    <tr>\n",
       "      <th>0</th>\n",
       "      <td>6207</td>\n",
       "      <td>1</td>\n",
       "      <td>78</td>\n",
       "      <td>0</td>\n",
       "      <td>1</td>\n",
       "      <td>0</td>\n",
       "      <td>0</td>\n",
       "      <td>0</td>\n",
       "      <td>0</td>\n",
       "      <td>0</td>\n",
       "      <td>...</td>\n",
       "      <td>39.65</td>\n",
       "      <td>0.00</td>\n",
       "      <td>20</td>\n",
       "      <td>0.00</td>\n",
       "      <td>59.65</td>\n",
       "      <td>3</td>\n",
       "      <td>0</td>\n",
       "      <td>1</td>\n",
       "      <td>91</td>\n",
       "      <td>5433</td>\n",
       "    </tr>\n",
       "    <tr>\n",
       "      <th>1</th>\n",
       "      <td>5305</td>\n",
       "      <td>0</td>\n",
       "      <td>74</td>\n",
       "      <td>0</td>\n",
       "      <td>1</td>\n",
       "      <td>1</td>\n",
       "      <td>1</td>\n",
       "      <td>1</td>\n",
       "      <td>0</td>\n",
       "      <td>0</td>\n",
       "      <td>...</td>\n",
       "      <td>633.30</td>\n",
       "      <td>0.00</td>\n",
       "      <td>0</td>\n",
       "      <td>390.80</td>\n",
       "      <td>1024.10</td>\n",
       "      <td>3</td>\n",
       "      <td>0</td>\n",
       "      <td>1</td>\n",
       "      <td>69</td>\n",
       "      <td>5302</td>\n",
       "    </tr>\n",
       "    <tr>\n",
       "      <th>2</th>\n",
       "      <td>1129</td>\n",
       "      <td>1</td>\n",
       "      <td>71</td>\n",
       "      <td>0</td>\n",
       "      <td>1</td>\n",
       "      <td>0</td>\n",
       "      <td>1</td>\n",
       "      <td>3</td>\n",
       "      <td>0</td>\n",
       "      <td>0</td>\n",
       "      <td>...</td>\n",
       "      <td>1752.55</td>\n",
       "      <td>45.61</td>\n",
       "      <td>0</td>\n",
       "      <td>203.94</td>\n",
       "      <td>1910.88</td>\n",
       "      <td>2</td>\n",
       "      <td>0</td>\n",
       "      <td>1</td>\n",
       "      <td>81</td>\n",
       "      <td>3179</td>\n",
       "    </tr>\n",
       "    <tr>\n",
       "      <th>3</th>\n",
       "      <td>3208</td>\n",
       "      <td>0</td>\n",
       "      <td>78</td>\n",
       "      <td>0</td>\n",
       "      <td>1</td>\n",
       "      <td>1</td>\n",
       "      <td>1</td>\n",
       "      <td>1</td>\n",
       "      <td>0</td>\n",
       "      <td>0</td>\n",
       "      <td>...</td>\n",
       "      <td>2514.50</td>\n",
       "      <td>13.43</td>\n",
       "      <td>0</td>\n",
       "      <td>494.00</td>\n",
       "      <td>2995.07</td>\n",
       "      <td>2</td>\n",
       "      <td>0</td>\n",
       "      <td>1</td>\n",
       "      <td>88</td>\n",
       "      <td>5337</td>\n",
       "    </tr>\n",
       "    <tr>\n",
       "      <th>4</th>\n",
       "      <td>3419</td>\n",
       "      <td>0</td>\n",
       "      <td>80</td>\n",
       "      <td>0</td>\n",
       "      <td>1</td>\n",
       "      <td>1</td>\n",
       "      <td>1</td>\n",
       "      <td>1</td>\n",
       "      <td>0</td>\n",
       "      <td>0</td>\n",
       "      <td>...</td>\n",
       "      <td>2868.15</td>\n",
       "      <td>0.00</td>\n",
       "      <td>0</td>\n",
       "      <td>234.21</td>\n",
       "      <td>3102.36</td>\n",
       "      <td>2</td>\n",
       "      <td>0</td>\n",
       "      <td>1</td>\n",
       "      <td>67</td>\n",
       "      <td>2793</td>\n",
       "    </tr>\n",
       "  </tbody>\n",
       "</table>\n",
       "<p>5 rows × 46 columns</p>\n",
       "</div>"
      ],
      "text/plain": [
       "   Customer ID  Gender  Age  Under 30  Senior Citizen  Married  Dependents  \\\n",
       "0         6207       1   78         0               1        0           0   \n",
       "1         5305       0   74         0               1        1           1   \n",
       "2         1129       1   71         0               1        0           1   \n",
       "3         3208       0   78         0               1        1           1   \n",
       "4         3419       0   80         0               1        1           1   \n",
       "\n",
       "   Number of Dependents  Country  State  ...  Total Charges  Total Refunds  \\\n",
       "0                     0        0      0  ...          39.65           0.00   \n",
       "1                     1        0      0  ...         633.30           0.00   \n",
       "2                     3        0      0  ...        1752.55          45.61   \n",
       "3                     1        0      0  ...        2514.50          13.43   \n",
       "4                     1        0      0  ...        2868.15           0.00   \n",
       "\n",
       "   Total Extra Data Charges  Total Long Distance Charges  Total Revenue  \\\n",
       "0                        20                         0.00          59.65   \n",
       "1                         0                       390.80        1024.10   \n",
       "2                         0                       203.94        1910.88   \n",
       "3                         0                       494.00        2995.07   \n",
       "4                         0                       234.21        3102.36   \n",
       "\n",
       "   Satisfaction Score  Customer Status  Churn  Churn Score  CLTV  \n",
       "0                   3                0      1           91  5433  \n",
       "1                   3                0      1           69  5302  \n",
       "2                   2                0      1           81  3179  \n",
       "3                   2                0      1           88  5337  \n",
       "4                   2                0      1           67  2793  \n",
       "\n",
       "[5 rows x 46 columns]"
      ]
     },
     "execution_count": 24,
     "metadata": {},
     "output_type": "execute_result"
    }
   ],
   "source": [
    "df.head()"
   ]
  },
  {
   "cell_type": "code",
   "execution_count": 6,
   "id": "510e9cfe-f872-40cf-b8b3-76623367ff7e",
   "metadata": {},
   "outputs": [
    {
     "name": "stdout",
     "output_type": "stream",
     "text": [
      "Index(['Customer ID', 'Gender', 'Age', 'Under 30', 'Senior Citizen', 'Married',\n",
      "       'Dependents', 'Number of Dependents', 'Country', 'State', 'City',\n",
      "       'Zip Code', 'Latitude', 'Longitude', 'Population', 'Quarter',\n",
      "       'Referred a Friend', 'Number of Referrals', 'Tenure in Months', 'Offer',\n",
      "       'Phone Service', 'Avg Monthly Long Distance Charges', 'Multiple Lines',\n",
      "       'Internet Service', 'Internet Type', 'Avg Monthly GB Download',\n",
      "       'Online Security', 'Online Backup', 'Device Protection Plan',\n",
      "       'Premium Tech Support', 'Streaming TV', 'Streaming Movies',\n",
      "       'Streaming Music', 'Unlimited Data', 'Contract', 'Paperless Billing',\n",
      "       'Payment Method', 'Monthly Charge', 'Total Charges', 'Total Refunds',\n",
      "       'Total Extra Data Charges', 'Total Long Distance Charges',\n",
      "       'Total Revenue', 'Satisfaction Score', 'Customer Status', 'Churn Label',\n",
      "       'Churn Score', 'CLTV', 'Churn Category', 'Churn Reason'],\n",
      "      dtype='object')\n"
     ]
    }
   ],
   "source": [
    "print(df.columns)"
   ]
  },
  {
   "cell_type": "code",
   "execution_count": 7,
   "id": "e07a8e27-805f-459a-ad4c-2ec983dc0f50",
   "metadata": {},
   "outputs": [
    {
     "name": "stdout",
     "output_type": "stream",
     "text": [
      "['Yes' 'No']\n"
     ]
    }
   ],
   "source": [
    "print(df['Churn Label'].unique())"
   ]
  },
  {
   "cell_type": "code",
   "execution_count": 8,
   "id": "70968a48-f9c5-4142-9aba-99a510bca6bd",
   "metadata": {},
   "outputs": [],
   "source": [
    "df.rename(columns={'Churn Label': 'Churn'}, inplace=True)"
   ]
  },
  {
   "cell_type": "code",
   "execution_count": 22,
   "id": "6b9046c7-1987-4542-a176-1ed8697537be",
   "metadata": {},
   "outputs": [
    {
     "name": "stdout",
     "output_type": "stream",
     "text": [
      "[1 0]\n"
     ]
    }
   ],
   "source": [
    "print(df['Churn'].unique())"
   ]
  },
  {
   "cell_type": "code",
   "execution_count": 23,
   "id": "45cee14a-14e9-486f-b995-577c8675aa98",
   "metadata": {},
   "outputs": [
    {
     "name": "stdout",
     "output_type": "stream",
     "text": [
      "Dataset Head:\n",
      "   Customer ID  Gender  Age  Under 30  Senior Citizen  Married  Dependents  \\\n",
      "0         6207       1   78         0               1        0           0   \n",
      "1         5305       0   74         0               1        1           1   \n",
      "2         1129       1   71         0               1        0           1   \n",
      "3         3208       0   78         0               1        1           1   \n",
      "4         3419       0   80         0               1        1           1   \n",
      "\n",
      "   Number of Dependents  Country  State  ...  Total Charges  Total Refunds  \\\n",
      "0                     0        0      0  ...          39.65           0.00   \n",
      "1                     1        0      0  ...         633.30           0.00   \n",
      "2                     3        0      0  ...        1752.55          45.61   \n",
      "3                     1        0      0  ...        2514.50          13.43   \n",
      "4                     1        0      0  ...        2868.15           0.00   \n",
      "\n",
      "   Total Extra Data Charges  Total Long Distance Charges  Total Revenue  \\\n",
      "0                        20                         0.00          59.65   \n",
      "1                         0                       390.80        1024.10   \n",
      "2                         0                       203.94        1910.88   \n",
      "3                         0                       494.00        2995.07   \n",
      "4                         0                       234.21        3102.36   \n",
      "\n",
      "   Satisfaction Score  Customer Status  Churn  Churn Score  CLTV  \n",
      "0                   3                0      1           91  5433  \n",
      "1                   3                0      1           69  5302  \n",
      "2                   2                0      1           81  3179  \n",
      "3                   2                0      1           88  5337  \n",
      "4                   2                0      1           67  2793  \n",
      "\n",
      "[5 rows x 46 columns]\n",
      "\n",
      "Dataset Info:\n",
      "<class 'pandas.core.frame.DataFrame'>\n",
      "RangeIndex: 7043 entries, 0 to 7042\n",
      "Data columns (total 46 columns):\n",
      " #   Column                             Non-Null Count  Dtype  \n",
      "---  ------                             --------------  -----  \n",
      " 0   Customer ID                        7043 non-null   int32  \n",
      " 1   Gender                             7043 non-null   int32  \n",
      " 2   Age                                7043 non-null   int64  \n",
      " 3   Under 30                           7043 non-null   int32  \n",
      " 4   Senior Citizen                     7043 non-null   int32  \n",
      " 5   Married                            7043 non-null   int32  \n",
      " 6   Dependents                         7043 non-null   int32  \n",
      " 7   Number of Dependents               7043 non-null   int64  \n",
      " 8   Country                            7043 non-null   int32  \n",
      " 9   State                              7043 non-null   int32  \n",
      " 10  City                               7043 non-null   int32  \n",
      " 11  Zip Code                           7043 non-null   int64  \n",
      " 12  Latitude                           7043 non-null   float64\n",
      " 13  Longitude                          7043 non-null   float64\n",
      " 14  Population                         7043 non-null   int64  \n",
      " 15  Quarter                            7043 non-null   int32  \n",
      " 16  Referred a Friend                  7043 non-null   int32  \n",
      " 17  Number of Referrals                7043 non-null   int64  \n",
      " 18  Tenure in Months                   7043 non-null   int64  \n",
      " 19  Phone Service                      7043 non-null   int32  \n",
      " 20  Avg Monthly Long Distance Charges  7043 non-null   float64\n",
      " 21  Multiple Lines                     7043 non-null   int32  \n",
      " 22  Internet Service                   7043 non-null   int32  \n",
      " 23  Avg Monthly GB Download            7043 non-null   int64  \n",
      " 24  Online Security                    7043 non-null   int32  \n",
      " 25  Online Backup                      7043 non-null   int32  \n",
      " 26  Device Protection Plan             7043 non-null   int32  \n",
      " 27  Premium Tech Support               7043 non-null   int32  \n",
      " 28  Streaming TV                       7043 non-null   int32  \n",
      " 29  Streaming Movies                   7043 non-null   int32  \n",
      " 30  Streaming Music                    7043 non-null   int32  \n",
      " 31  Unlimited Data                     7043 non-null   int32  \n",
      " 32  Contract                           7043 non-null   int32  \n",
      " 33  Paperless Billing                  7043 non-null   int32  \n",
      " 34  Payment Method                     7043 non-null   int32  \n",
      " 35  Monthly Charge                     7043 non-null   float64\n",
      " 36  Total Charges                      7043 non-null   float64\n",
      " 37  Total Refunds                      7043 non-null   float64\n",
      " 38  Total Extra Data Charges           7043 non-null   int64  \n",
      " 39  Total Long Distance Charges        7043 non-null   float64\n",
      " 40  Total Revenue                      7043 non-null   float64\n",
      " 41  Satisfaction Score                 7043 non-null   int64  \n",
      " 42  Customer Status                    7043 non-null   int32  \n",
      " 43  Churn                              7043 non-null   int32  \n",
      " 44  Churn Score                        7043 non-null   int64  \n",
      " 45  CLTV                               7043 non-null   int64  \n",
      "dtypes: float64(8), int32(27), int64(11)\n",
      "memory usage: 1.7 MB\n",
      "None\n",
      "\n",
      "Missing Values:\n",
      "Customer ID                          0\n",
      "Gender                               0\n",
      "Age                                  0\n",
      "Under 30                             0\n",
      "Senior Citizen                       0\n",
      "Married                              0\n",
      "Dependents                           0\n",
      "Number of Dependents                 0\n",
      "Country                              0\n",
      "State                                0\n",
      "City                                 0\n",
      "Zip Code                             0\n",
      "Latitude                             0\n",
      "Longitude                            0\n",
      "Population                           0\n",
      "Quarter                              0\n",
      "Referred a Friend                    0\n",
      "Number of Referrals                  0\n",
      "Tenure in Months                     0\n",
      "Phone Service                        0\n",
      "Avg Monthly Long Distance Charges    0\n",
      "Multiple Lines                       0\n",
      "Internet Service                     0\n",
      "Avg Monthly GB Download              0\n",
      "Online Security                      0\n",
      "Online Backup                        0\n",
      "Device Protection Plan               0\n",
      "Premium Tech Support                 0\n",
      "Streaming TV                         0\n",
      "Streaming Movies                     0\n",
      "Streaming Music                      0\n",
      "Unlimited Data                       0\n",
      "Contract                             0\n",
      "Paperless Billing                    0\n",
      "Payment Method                       0\n",
      "Monthly Charge                       0\n",
      "Total Charges                        0\n",
      "Total Refunds                        0\n",
      "Total Extra Data Charges             0\n",
      "Total Long Distance Charges          0\n",
      "Total Revenue                        0\n",
      "Satisfaction Score                   0\n",
      "Customer Status                      0\n",
      "Churn                                0\n",
      "Churn Score                          0\n",
      "CLTV                                 0\n",
      "dtype: int64\n",
      "\n",
      "Class Distribution:\n",
      "Churn\n",
      "0    5174\n",
      "1    1869\n",
      "Name: count, dtype: int64\n"
     ]
    }
   ],
   "source": [
    "print(\"Dataset Head:\")\n",
    "print(df.head())\n",
    "print(\"\\nDataset Info:\")\n",
    "print(df.info())\n",
    "print(\"\\nMissing Values:\")\n",
    "print(df.isnull().sum())\n",
    "print(\"\\nClass Distribution:\")\n",
    "print(df['Churn'].value_counts())"
   ]
  },
  {
   "cell_type": "code",
   "execution_count": 10,
   "id": "952a73b8-56fd-4da1-96d6-1bb64204fb16",
   "metadata": {},
   "outputs": [
    {
     "name": "stdout",
     "output_type": "stream",
     "text": [
      "\n",
      "Missing values after handling:\n",
      "Customer ID                          0\n",
      "Gender                               0\n",
      "Age                                  0\n",
      "Under 30                             0\n",
      "Senior Citizen                       0\n",
      "Married                              0\n",
      "Dependents                           0\n",
      "Number of Dependents                 0\n",
      "Country                              0\n",
      "State                                0\n",
      "City                                 0\n",
      "Zip Code                             0\n",
      "Latitude                             0\n",
      "Longitude                            0\n",
      "Population                           0\n",
      "Quarter                              0\n",
      "Referred a Friend                    0\n",
      "Number of Referrals                  0\n",
      "Tenure in Months                     0\n",
      "Phone Service                        0\n",
      "Avg Monthly Long Distance Charges    0\n",
      "Multiple Lines                       0\n",
      "Internet Service                     0\n",
      "Avg Monthly GB Download              0\n",
      "Online Security                      0\n",
      "Online Backup                        0\n",
      "Device Protection Plan               0\n",
      "Premium Tech Support                 0\n",
      "Streaming TV                         0\n",
      "Streaming Movies                     0\n",
      "Streaming Music                      0\n",
      "Unlimited Data                       0\n",
      "Contract                             0\n",
      "Paperless Billing                    0\n",
      "Payment Method                       0\n",
      "Monthly Charge                       0\n",
      "Total Charges                        0\n",
      "Total Refunds                        0\n",
      "Total Extra Data Charges             0\n",
      "Total Long Distance Charges          0\n",
      "Total Revenue                        0\n",
      "Satisfaction Score                   0\n",
      "Customer Status                      0\n",
      "Churn                                0\n",
      "Churn Score                          0\n",
      "CLTV                                 0\n",
      "dtype: int64\n"
     ]
    },
    {
     "name": "stderr",
     "output_type": "stream",
     "text": [
      "C:\\Users\\saumi\\AppData\\Local\\Temp\\ipykernel_59808\\2797293927.py:7: FutureWarning: A value is trying to be set on a copy of a DataFrame or Series through chained assignment using an inplace method.\n",
      "The behavior will change in pandas 3.0. This inplace method will never work because the intermediate object on which we are setting values always behaves as a copy.\n",
      "\n",
      "For example, when doing 'df[col].method(value, inplace=True)', try using 'df.method({col: value}, inplace=True)' or df[col] = df[col].method(value) instead, to perform the operation inplace on the original object.\n",
      "\n",
      "\n",
      "  df[col].fillna(df[col].mode()[0], inplace=True)  # Mode for categorical columns\n",
      "C:\\Users\\saumi\\AppData\\Local\\Temp\\ipykernel_59808\\2797293927.py:9: FutureWarning: A value is trying to be set on a copy of a DataFrame or Series through chained assignment using an inplace method.\n",
      "The behavior will change in pandas 3.0. This inplace method will never work because the intermediate object on which we are setting values always behaves as a copy.\n",
      "\n",
      "For example, when doing 'df[col].method(value, inplace=True)', try using 'df.method({col: value}, inplace=True)' or df[col] = df[col].method(value) instead, to perform the operation inplace on the original object.\n",
      "\n",
      "\n",
      "  df[col].fillna(df[col].median(), inplace=True)   # Median for numerical columns\n"
     ]
    }
   ],
   "source": [
    "# Drop columns with more than 10% missing values\n",
    "df = df.dropna(axis=1, thresh=0.9 * len(df))\n",
    "\n",
    "# Impute remaining missing values\n",
    "for col in df.columns:\n",
    "    if df[col].dtype == \"object\":\n",
    "        df[col].fillna(df[col].mode()[0], inplace=True)  # Mode for categorical columns\n",
    "    else:\n",
    "        df[col].fillna(df[col].median(), inplace=True)   # Median for numerical columns\n",
    "# Verify missing values\n",
    "print(\"\\nMissing values after handling:\")\n",
    "print(df.isnull().sum())\n"
   ]
  },
  {
   "cell_type": "code",
   "execution_count": 21,
   "id": "a2bc8e9e-3d09-476e-bec6-3c204764c945",
   "metadata": {},
   "outputs": [
    {
     "name": "stdout",
     "output_type": "stream",
     "text": [
      "\n",
      "Categorical Columns: []\n",
      "✅ Encoders saved successfully at: models\\encoder.pkl\n"
     ]
    }
   ],
   "source": [
    "# ✅ Identify categorical columns\n",
    "categorical_cols = df.select_dtypes(include=['object']).columns.tolist()\n",
    "print(\"\\nCategorical Columns:\", categorical_cols)\n",
    "\n",
    "# ✅ Initialize LabelEncoders for each categorical column\n",
    "encoder_dict = {}\n",
    "\n",
    "for col in categorical_cols:\n",
    "    encoder = LabelEncoder()\n",
    "    df[col] = encoder.fit_transform(df[col])  # Apply encoding to the dataset\n",
    "    encoder_dict[col] = encoder  # Store encoder for each categorical column\n",
    "\n",
    "# ✅ Create \"models\" directory if it doesn't exist\n",
    "models_dir = \"models\"\n",
    "if not os.path.exists(models_dir):\n",
    "    os.makedirs(models_dir)\n",
    "\n",
    "# ✅ Save the encoder dictionary\n",
    "ENCODER_PATH = os.path.join(models_dir, \"encoder.pkl\")\n",
    "joblib.dump(encoder_dict, ENCODER_PATH)\n",
    "\n",
    "print(f\"✅ Encoders saved successfully at: {ENCODER_PATH}\")\n",
    "\n"
   ]
  },
  {
   "cell_type": "code",
   "execution_count": 12,
   "id": "69657d24-b18b-4847-a3df-f5cf4da695cb",
   "metadata": {},
   "outputs": [
    {
     "name": "stdout",
     "output_type": "stream",
     "text": [
      "✅ SMOTE Applied - Training set balanced!\n"
     ]
    }
   ],
   "source": [
    "# Define features (X) and target variable (y)\n",
    "X = df.drop(columns=['Churn'])\n",
    "y = df['Churn']\n",
    "\n",
    "# ✅ Split dataset first (Before SMOTE)\n",
    "X_train, X_test, y_train, y_test = train_test_split(X, y, test_size=0.2, random_state=42, stratify=y)\n",
    "\n",
    "# ✅ Apply SMOTE only to training data\n",
    "smote = SMOTE(random_state=42)\n",
    "X_train_sm, y_train_sm = smote.fit_resample(X_train, y_train)\n",
    "\n",
    "print(\"✅ SMOTE Applied - Training set balanced!\")\n",
    "\n"
   ]
  },
  {
   "cell_type": "code",
   "execution_count": 13,
   "id": "88b026e7-dc9d-4fd0-b57e-654a85087373",
   "metadata": {},
   "outputs": [
    {
     "name": "stdout",
     "output_type": "stream",
     "text": [
      "✅ Data Preprocessing Complete! Files saved in 'data' folder.\n"
     ]
    }
   ],
   "source": [
    "# ✅ Scale numeric features\n",
    "scaler = StandardScaler()\n",
    "X_train_sm = scaler.fit_transform(X_train_sm)\n",
    "X_test = scaler.transform(X_test)\n",
    "\n",
    "# Convert back to DataFrame\n",
    "X_train_sm = pd.DataFrame(X_train_sm, columns=X.columns)\n",
    "X_test = pd.DataFrame(X_test, columns=X.columns)\n",
    "\n",
    "# ✅ Save processed datasets\n",
    "if not os.path.exists(\"data\"):\n",
    "    os.makedirs(\"data\")\n",
    "\n",
    "X_train_sm.to_csv(\"data/X_train_sm.csv\", index=False)\n",
    "y_train_sm.to_csv(\"data/y_train_sm.csv\", index=False)\n",
    "X_test.to_csv(\"data/X_test.csv\", index=False)\n",
    "y_test.to_csv(\"data/y_test.csv\", index=False)\n",
    "\n",
    "print(\"✅ Data Preprocessing Complete! Files saved in 'data' folder.\")\n"
   ]
  },
  {
   "cell_type": "code",
   "execution_count": 19,
   "id": "271d8750-6899-410e-b261-d03c256a9269",
   "metadata": {},
   "outputs": [
    {
     "name": "stdout",
     "output_type": "stream",
     "text": [
      "\n",
      "✅ Preprocessed data saved successfully!\n"
     ]
    }
   ],
   "source": [
    "# Create 'data' folder if not exists\n",
    "import os\n",
    "if not os.path.exists('data'):\n",
    "    os.makedirs('data')\n",
    "\n",
    "# Save the datasets\n",
    "X_train_sm.to_csv(\"data/X_train_sm.csv\", index=False)\n",
    "y_train_sm.to_csv(\"data/y_train_sm.csv\", index=False)\n",
    "X_test.to_csv(\"data/X_test.csv\", index=False)\n",
    "y_test.to_csv(\"data/y_test.csv\", index=False)\n",
    "\n",
    "print(\"\\n✅ Preprocessed data saved successfully!\")\n"
   ]
  },
  {
   "cell_type": "code",
   "execution_count": 14,
   "id": "2a210119-b5ee-439d-8d68-e6c751800b26",
   "metadata": {},
   "outputs": [
    {
     "name": "stderr",
     "output_type": "stream",
     "text": [
      "C:\\Users\\saumi\\AppData\\Local\\Temp\\ipykernel_59808\\459810283.py:4: FutureWarning: \n",
      "\n",
      "Passing `palette` without assigning `hue` is deprecated and will be removed in v0.14.0. Assign the `x` variable to `hue` and set `legend=False` for the same effect.\n",
      "\n",
      "  sns.countplot(x=y_train, ax=axes[0], palette=\"viridis\")\n",
      "C:\\Users\\saumi\\AppData\\Local\\Temp\\ipykernel_59808\\459810283.py:9: FutureWarning: \n",
      "\n",
      "Passing `palette` without assigning `hue` is deprecated and will be removed in v0.14.0. Assign the `x` variable to `hue` and set `legend=False` for the same effect.\n",
      "\n",
      "  sns.countplot(x=y_train_sm, ax=axes[1], palette=\"viridis\")\n"
     ]
    },
    {
     "data": {
      "image/png": "[encoded data removed]",
      "text/plain": [
       "<Figure size 1400x600 with 2 Axes>"
      ]
     },
     "metadata": {},
     "output_type": "display_data"
    }
   ],
   "source": [
    "# Plot class distribution before and after SMOTE\n",
    "fig, axes = plt.subplots(1, 2, figsize=(14, 6))\n",
    "\n",
    "sns.countplot(x=y_train, ax=axes[0], palette=\"viridis\")\n",
    "axes[0].set_title(\"Class Distribution Before SMOTE\")\n",
    "axes[0].set_xlabel(\"Churn\")\n",
    "axes[0].set_ylabel(\"Count\")\n",
    "\n",
    "sns.countplot(x=y_train_sm, ax=axes[1], palette=\"viridis\")\n",
    "axes[1].set_title(\"Class Distribution After SMOTE\")\n",
    "axes[1].set_xlabel(\"Churn\")\n",
    "axes[1].set_ylabel(\"Count\")\n",
    "\n",
    "plt.show()\n"
   ]
  },
  {
   "cell_type": "code",
   "execution_count": 15,
   "id": "9486e404-c938-4584-97c3-963b9a1c1912",
   "metadata": {},
   "outputs": [
    {
     "name": "stdout",
     "output_type": "stream",
     "text": [
      "✅ Data preprocessing completed successfully! 🚀\n",
      "Training set size (after SMOTE): (8278, 45)\n",
      "Test set size: (1409, 45)\n"
     ]
    }
   ],
   "source": [
    "print(\"✅ Data preprocessing completed successfully! 🚀\")\n",
    "print(f\"Training set size (after SMOTE): {X_train_sm.shape}\")\n",
    "print(f\"Test set size: {X_test.shape}\")\n"
   ]
  },
  {
   "cell_type": "code",
   "execution_count": 16,
   "id": "f8d6aff3-83cd-4866-8aa2-6113309744d9",
   "metadata": {},
   "outputs": [
    {
     "name": "stdout",
     "output_type": "stream",
     "text": [
      "\n",
      "Final Check - Missing Values in Processed Datasets:\n",
      "X_train_sm Missing: 0\n",
      "X_test Missing: 0\n"
     ]
    }
   ],
   "source": [
    "print(\"\\nFinal Check - Missing Values in Processed Datasets:\")\n",
    "print(\"X_train_sm Missing:\", X_train_sm.isnull().sum().sum())\n",
    "print(\"X_test Missing:\", X_test.isnull().sum().sum())\n"
   ]
  },
  {
   "cell_type": "code",
   "execution_count": 17,
   "id": "581ed6d9-af3f-4518-90f4-9100e59e836d",
   "metadata": {},
   "outputs": [
    {
     "data": {
      "image/png": "[encoded data removed]",
      "text/plain": [
       "<Figure size 640x480 with 1 Axes>"
      ]
     },
     "metadata": {},
     "output_type": "display_data"
    }
   ],
   "source": [
    "import seaborn as sns\n",
    "import matplotlib.pyplot as plt\n",
    "\n",
    "sns.countplot(x=y_train_sm)\n",
    "plt.title(\"Class Distribution After SMOTE\")\n",
    "plt.show()\n"
   ]
  },
  {
   "cell_type": "code",
   "execution_count": 18,
   "id": "6dcf1629-33e1-4d43-a2ef-f282370a0ad1",
   "metadata": {},
   "outputs": [
    {
     "name": "stdout",
     "output_type": "stream",
     "text": [
      "✅ data/X_train_sm.csv exists: True\n",
      "✅ data/y_train_sm.csv exists: True\n",
      "✅ data/X_test.csv exists: True\n",
      "✅ data/y_test.csv exists: True\n"
     ]
    }
   ],
   "source": [
    "import os\n",
    "\n",
    "files = [\"data/X_train_sm.csv\", \"data/y_train_sm.csv\", \"data/X_test.csv\", \"data/y_test.csv\"]\n",
    "\n",
    "for file in files:\n",
    "    print(f\"✅ {file} exists: {os.path.exists(file)}\")\n"
   ]
  },
  {
   "cell_type": "code",
   "execution_count": 19,
   "id": "4d1ae768-b8fd-4977-935a-f69386f15feb",
   "metadata": {},
   "outputs": [
    {
     "name": "stdout",
     "output_type": "stream",
     "text": [
      "✅ X_train_sm Shape: (8278, 45)\n",
      "✅ y_train_sm Shape: (8278, 1)\n",
      "✅ X_test Shape: (1409, 45)\n",
      "✅ y_test Shape: (1409, 1)\n",
      "\n",
      "🧐 First few rows of y_train_sm:\n",
      "   Churn\n",
      "0      0\n",
      "1      0\n",
      "2      0\n",
      "3      0\n",
      "4      0\n",
      "\n",
      "🧐 First few rows of y_test:\n",
      "   Churn\n",
      "0      0\n",
      "1      0\n",
      "2      0\n",
      "3      0\n",
      "4      0\n"
     ]
    }
   ],
   "source": [
    "import pandas as pd\n",
    "\n",
    "# Load files to check their contents\n",
    "X_train_sm = pd.read_csv(\"data/X_train_sm.csv\")\n",
    "y_train_sm = pd.read_csv(\"data/y_train_sm.csv\")\n",
    "X_test = pd.read_csv(\"data/X_test.csv\")\n",
    "y_test = pd.read_csv(\"data/y_test.csv\")\n",
    "\n",
    "# Print shapes\n",
    "print(\"✅ X_train_sm Shape:\", X_train_sm.shape)\n",
    "print(\"✅ y_train_sm Shape:\", y_train_sm.shape)\n",
    "print(\"✅ X_test Shape:\", X_test.shape)\n",
    "print(\"✅ y_test Shape:\", y_test.shape)\n",
    "\n",
    "# Print first few rows to confirm data is saved properly\n",
    "print(\"\\n🧐 First few rows of y_train_sm:\")\n",
    "print(y_train_sm.head())\n",
    "\n",
    "print(\"\\n🧐 First few rows of y_test:\")\n",
    "print(y_test.head())\n"
   ]
  },
  {
   "cell_type": "code",
   "execution_count": 20,
   "id": "9a7f391e-29ec-43da-9b73-c7cce975e792",
   "metadata": {},
   "outputs": [
    {
     "name": "stdout",
     "output_type": "stream",
     "text": [
      "✅ Datasets saved again successfully!\n"
     ]
    }
   ],
   "source": [
    "# Save the datasets again if needed\n",
    "if not os.path.exists('data'):\n",
    "    os.makedirs('data')\n",
    "\n",
    "X_train_sm.to_csv(\"data/X_train_sm.csv\", index=False)\n",
    "y_train_sm.to_csv(\"data/y_train_sm.csv\", index=False)\n",
    "X_test.to_csv(\"data/X_test.csv\", index=False)\n",
    "y_test.to_csv(\"data/y_test.csv\", index=False)\n",
    "\n",
    "print(\"✅ Datasets saved again successfully!\")\n"
   ]
  },
  {
   "cell_type": "code",
   "execution_count": 25,
   "id": "7ef5e7a6-3de6-4b1c-9918-1d0693ddc908",
   "metadata": {},
   "outputs": [
    {
     "name": "stdout",
     "output_type": "stream",
     "text": [
      "✅ Encoders saved successfully!\n"
     ]
    }
   ],
   "source": [
    "from sklearn.preprocessing import LabelEncoder\n",
    "import pandas as pd\n",
    "import joblib\n",
    "\n",
    "# Load dataset\n",
    "df = pd.read_csv(\"data/telco.csv\")\n",
    "\n",
    "# Identify categorical columns\n",
    "categorical_cols = [\"Contract\", \"Payment Method\", \"Online Security\", \"Premium Tech Support\", \"Dependents\"]\n",
    "\n",
    "# Initialize LabelEncoders for each categorical column\n",
    "encoder_dict = {}\n",
    "\n",
    "for col in categorical_cols:\n",
    "    encoder = LabelEncoder()\n",
    "    df[col] = encoder.fit_transform(df[col])  # Fit encoding on training data\n",
    "    encoder_dict[col] = encoder  # Store encoder for each categorical column\n",
    "\n",
    "# Save the encoder dictionary\n",
    "joblib.dump(encoder_dict, \"models/encoder.pkl\")\n",
    "print(\"✅ Encoders saved successfully!\")\n"
   ]
  },
  {
   "cell_type": "code",
   "execution_count": 1,
   "id": "cc6a9302-19a0-45ba-8294-af6fe72bcbed",
   "metadata": {},
   "outputs": [
    {
     "name": "stdout",
     "output_type": "stream",
     "text": [
      "✅ Encoders saved successfully!\n"
     ]
    }
   ],
   "source": [
    "from sklearn.preprocessing import LabelEncoder\n",
    "import pandas as pd\n",
    "import joblib\n",
    "\n",
    "# Load dataset\n",
    "df = pd.read_csv(\"data/telco.csv\")\n",
    "\n",
    "# Identify categorical columns\n",
    "categorical_cols = [\"Contract\", \"Payment Method\", \"Online Security\", \"Premium Tech Support\", \"Dependents\", \"Referred a Friend\"]\n",
    "\n",
    "# Initialize LabelEncoders for each categorical column\n",
    "encoder_dict = {}\n",
    "\n",
    "for col in categorical_cols:\n",
    "    encoder = LabelEncoder()\n",
    "    df[col] = encoder.fit_transform(df[col])  # Fit encoding on training data\n",
    "    encoder_dict[col] = encoder  # Store encoder for each categorical column\n",
    "\n",
    "# Save the encoder dictionary\n",
    "joblib.dump(encoder_dict, \"models/encoder.pkl\")\n",
    "print(\"✅ Encoders saved successfully!\")\n"
   ]
  },
  {
   "cell_type": "code",
   "execution_count": 1,
   "id": "9a23908c-19c7-4083-8fd7-0e3626cc4242",
   "metadata": {},
   "outputs": [
    {
     "name": "stdout",
     "output_type": "stream",
     "text": [
      "\n",
      "✅ Categorical Columns: []\n"
     ]
    }
   ],
   "source": [
    "import joblib\n",
    "import pandas as pd\n",
    "import os\n",
    "from sklearn.preprocessing import LabelEncoder\n",
    "\n",
    "# ✅ Load the dataset (Ensure you're using the preprocessed training data)\n",
    "df = pd.read_csv(\"data/X_train_sm.csv\")  # Use the correct file path\n",
    "\n",
    "# ✅ Identify categorical columns (if they exist)\n",
    "categorical_cols = df.select_dtypes(include=['object']).columns.tolist()\n",
    "print(\"\\n✅ Categorical Columns:\", categorical_cols)"
   ]
  },
  {
   "cell_type": "code",
   "execution_count": 2,
   "id": "8243a5ab-799a-4716-8986-1e28f7329e67",
   "metadata": {},
   "outputs": [
    {
     "name": "stdout",
     "output_type": "stream",
     "text": [
      "Customer ID                          float64\n",
      "Gender                               float64\n",
      "Age                                  float64\n",
      "Under 30                             float64\n",
      "Senior Citizen                       float64\n",
      "Married                              float64\n",
      "Dependents                           float64\n",
      "Number of Dependents                 float64\n",
      "Country                              float64\n",
      "State                                float64\n",
      "City                                 float64\n",
      "Zip Code                             float64\n",
      "Latitude                             float64\n",
      "Longitude                            float64\n",
      "Population                           float64\n",
      "Quarter                              float64\n",
      "Referred a Friend                    float64\n",
      "Number of Referrals                  float64\n",
      "Tenure in Months                     float64\n",
      "Phone Service                        float64\n",
      "Avg Monthly Long Distance Charges    float64\n",
      "Multiple Lines                       float64\n",
      "Internet Service                     float64\n",
      "Avg Monthly GB Download              float64\n",
      "Online Security                      float64\n",
      "Online Backup                        float64\n",
      "Device Protection Plan               float64\n",
      "Premium Tech Support                 float64\n",
      "Streaming TV                         float64\n",
      "Streaming Movies                     float64\n",
      "Streaming Music                      float64\n",
      "Unlimited Data                       float64\n",
      "Contract                             float64\n",
      "Paperless Billing                    float64\n",
      "Payment Method                       float64\n",
      "Monthly Charge                       float64\n",
      "Total Charges                        float64\n",
      "Total Refunds                        float64\n",
      "Total Extra Data Charges             float64\n",
      "Total Long Distance Charges          float64\n",
      "Total Revenue                        float64\n",
      "Satisfaction Score                   float64\n",
      "Customer Status                      float64\n",
      "Churn Score                          float64\n",
      "CLTV                                 float64\n",
      "dtype: object\n"
     ]
    }
   ],
   "source": [
    "print(df.dtypes)\n"
   ]
  },
  {
   "cell_type": "code",
   "execution_count": null,
   "id": "2364e295-05c1-44e2-a2cd-6bcf28cdf72a",
   "metadata": {},
   "outputs": [],
   "source": []
  }
 ],
 "metadata": {
  "kernelspec": {
   "display_name": "Python 3 (ipykernel)",
   "language": "python",
   "name": "python3"
  },
  "language_info": {
   "codemirror_mode": {
    "name": "ipython",
    "version": 3
   },
   "file_extension": ".py",
   "mimetype": "text/x-python",
   "name": "python",
   "nbconvert_exporter": "python",
   "pygments_lexer": "ipython3",
   "version": "3.12.7"
  }
 },
 "nbformat": 4,
 "nbformat_minor": 5
}
